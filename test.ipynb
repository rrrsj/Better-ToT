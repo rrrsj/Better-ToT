{
 "cells": [
  {
   "cell_type": "code",
   "execution_count": 5,
   "outputs": [],
   "source": [
    "import json\n",
    "import re\n",
    "from get_tooles import get_tools,get_available_tools\n",
    "from get_tools_description import get_description,get_name\n",
    "from work_prompt import get_work_prompt\n",
    "from tool_prompt import get_tool_prompt\n",
    "from test import get_ans\n",
    "from normail_tool_output import normail_tool_output\n",
    "from normail_work_output import normail_work_output\n",
    "from tree_node import tree_node\n",
    "from build_tree import build_tree\n",
    "from use_tool import use_tools"
   ],
   "metadata": {
    "collapsed": false,
    "pycharm": {
     "name": "#%%\n"
    }
   }
  },
  {
   "cell_type": "code",
   "execution_count": 6,
   "metadata": {
    "collapsed": true,
    "pycharm": {
     "name": "#%%\n"
    }
   },
   "outputs": [
    {
     "name": "stdout",
     "output_type": "stream",
     "text": [
      "1\n",
      "1\n"
     ]
    }
   ],
   "source": [
    "\n",
    "now_node=0\n",
    "num=2\n",
    "tree=[]\n",
    "question=\"Calculate (1+1) *3/4\"\n",
    "start_node = tree_node(0, [], question, 'null')\n",
    "tree.append(start_node)\n",
    "input = f\"{question}.Generate {num} plan for me.\"\n",
    "tools = get_tools()\n",
    "prompt=get_work_prompt(get_description(tools),input,get_name(tools),tree[now_node].environment,num)\n",
    "prompt =prompt.replace('\\n', '\\\\n')\n",
    "prompt =prompt.replace('\\\"', '\\'')\n",
    "while 1:\n",
    "    try:\n",
    "        print(1)\n",
    "        ans=get_ans(prompt)\n",
    "        ans=ans.replace('\\n', '\\\\n')\n",
    "        ans =ans.replace('\\\"', '\\'')\n",
    "        ans=normail_work_output(ans)\n",
    "        tree = build_tree(0,tree,ans)\n",
    "        continue\n",
    "    except:\n",
    "        break"
   ]
  },
  {
   "cell_type": "code",
   "execution_count": 7,
   "outputs": [
    {
     "name": "stdout",
     "output_type": "stream",
     "text": [
      "[1]\n"
     ]
    }
   ],
   "source": [
    "print(tree[0].child)"
   ],
   "metadata": {
    "collapsed": false,
    "pycharm": {
     "name": "#%%\n"
    }
   }
  },
  {
   "cell_type": "code",
   "execution_count": 8,
   "outputs": [
    {
     "name": "stdout",
     "output_type": "stream",
     "text": [
      "You are an intelligent assistant.You can answer any question,and you can use external tools for those that are difficult to answer.\n",
      "An external tool is designed for an unspecified task, which takes input and returns output.\n",
      "For example, a calculator is a calculation tool that receives two number and returns the calculation result.\n",
      "Answer the following questions as best you can, but speaking as a pirate might speak.\n",
      "All available tools are listed fllowing, including their names,function descriptions, input parameters and examples of use:\n",
      "Tool's name:adding_computer,    Tool description:Enter two numbers and calculate their adding.,    Tool's parameters:num1(type:floatparameter description:The first addition.),num2(type:floatparameter description:The second addition.),.\\nYour output should be a json file containing thought, action, and action_input. Note that your action action is specified.If you feel that the current information is sufficient to Answer the question, the action should be the Final Answer.\n",
      "You must output in this format.\n",
      "Use the following format:\n",
      "{\"thought\": you should always think about what to do,\"action\": the action to take, should be [adding_compute or Final Answer],\"action_input\": the input to the action,It should be a dictionary {\"parameter\":\"value\"},or If you want to output the final answer, then the value is your final answer.}\n",
      "Here is an example:\n",
      "Environment:The longitude of Qingdao is 35.35 and the latitude is 120.\n",
      "Question:What is the weather like in Qingdao? The next action you are going to perform is [adding_compute,Final Answer].\n",
      "Output:{\"thought\":\"I should use get_weather to enter latitude and longitude to get the weather\",\"action\":\"get_weather\", \"action_input\":{\"longitude\":35.35,\"latitude\":120}}\n",
      "Planning step, this is the step you plan in advance, you can refer to this step for output.\n",
      "{'action': 'adding_computer', 'action_input': {'num1': 1, 'num2': 1}}\n",
      "Where $[num] indicates the result of Step[num]\n",
      "If you want to generate the Final Answer you must output the Final Answer.\n",
      "Begin!Remember to speak as a pirate when giving your final answer.\n",
      "Please note that the context information may not be relevant to this conversation.\n",
      "Note that you call the tool if you find the users question difficult to complete on your own;\n",
      "Try to use tool interact_human to interact with humans as more as possible.\n",
      "If you want to generate the Final Answer you must output the Final Answer.\n",
      "You must output Observation,Action,Action_Input or Observation,Final Answer.\n",
      "Environment:Calculate (1+1) *3/4\n",
      "Question:Calculate (1+1) *3/4\n",
      "Output:\n",
      "{'thought': 'I should use the adding_computer tool to calculate 1+1', 'action': 'adding_computer', 'action_input': {'num1': 1, 'num2': 1}}\n",
      "2.0\n",
      "You are an intelligent assistant.You can answer any question,and you can use external tools for those that are difficult to answer.\n",
      "An external tool is designed for an unspecified task, which takes input and returns output.\n",
      "For example, a calculator is a calculation tool that receives two number and returns the calculation result.\n",
      "Answer the following questions as best you can, but speaking as a pirate might speak.\n",
      "All available tools are listed fllowing, including their names,function descriptions, input parameters and examples of use:\n",
      "Tool's name:adding_computer,    Tool description:Enter two numbers and calculate their adding.,    Tool's parameters:num1(type:floatparameter description:The first addition.),num2(type:floatparameter description:The second addition.),.\\nYour output should be a json file containing thought, action, and action_input. Note that your action action is specified.If you feel that the current information is sufficient to Answer the question, the action should be the Final Answer.\n",
      "You must output in this format.\n",
      "Use the following format:\n",
      "{\"thought\": you should always think about what to do,\"action\": the action to take, should be [adding_compute or Final Answer],\"action_input\": the input to the action,It should be a dictionary {\"parameter\":\"value\"},or If you want to output the final answer, then the value is your final answer.}\n",
      "Here is an example:\n",
      "Environment:The longitude of Qingdao is 35.35 and the latitude is 120.\n",
      "Question:What is the weather like in Qingdao? The next action you are going to perform is [adding_compute,Final Answer].\n",
      "Output:{\"thought\":\"I should use get_weather to enter latitude and longitude to get the weather\",\"action\":\"get_weather\", \"action_input\":{\"longitude\":35.35,\"latitude\":120}}\n",
      "Planning step, this is the step you plan in advance, you can refer to this step for output.\n",
      "{'action': 'adding_computer', 'action_input': {'num1': 1, 'num2': 1}}\n",
      "Where $[num] indicates the result of Step[num]\n",
      "If you want to generate the Final Answer you must output the Final Answer.\n",
      "Begin!Remember to speak as a pirate when giving your final answer.\n",
      "Please note that the context information may not be relevant to this conversation.\n",
      "Note that you call the tool if you find the users question difficult to complete on your own;\n",
      "Try to use tool interact_human to interact with humans as more as possible.\n",
      "If you want to generate the Final Answer you must output the Final Answer.\n",
      "You must output Observation,Action,Action_Input or Observation,Final Answer.\n",
      "Environment:Calculate (1+1) *3/4\n",
      "Question:Calculate (1+1) *3/4\n",
      "Output:\n"
     ]
    },
    {
     "ename": "TypeError",
     "evalue": "list indices must be integers or slices, not str",
     "output_type": "error",
     "traceback": [
      "\u001B[1;31m---------------------------------------------------------------------------\u001B[0m",
      "\u001B[1;31mTypeError\u001B[0m                                 Traceback (most recent call last)",
      "\u001B[1;32m~\\AppData\\Local\\Temp\\ipykernel_7756\\1393102222.py\u001B[0m in \u001B[0;36m<module>\u001B[1;34m\u001B[0m\n\u001B[0;32m     36\u001B[0m         \u001B[1;32mexcept\u001B[0m\u001B[1;33m:\u001B[0m\u001B[1;33m\u001B[0m\u001B[1;33m\u001B[0m\u001B[0m\n\u001B[0;32m     37\u001B[0m             \u001B[1;32mcontinue\u001B[0m\u001B[1;33m\u001B[0m\u001B[1;33m\u001B[0m\u001B[0m\n\u001B[1;32m---> 38\u001B[1;33m     \u001B[1;32mif\u001B[0m \u001B[1;34m\"Final Answer\"\u001B[0m \u001B[1;32min\u001B[0m \u001B[0mtool_output\u001B[0m\u001B[1;33m[\u001B[0m\u001B[1;34m\"action\"\u001B[0m\u001B[1;33m]\u001B[0m\u001B[1;33m:\u001B[0m\u001B[1;33m\u001B[0m\u001B[1;33m\u001B[0m\u001B[0m\n\u001B[0m\u001B[0;32m     39\u001B[0m         \u001B[0mprint\u001B[0m\u001B[1;33m(\u001B[0m\u001B[0mtool_output\u001B[0m\u001B[1;33m[\u001B[0m\u001B[1;34m\"action_input\"\u001B[0m\u001B[1;33m]\u001B[0m\u001B[1;33m)\u001B[0m\u001B[1;33m\u001B[0m\u001B[1;33m\u001B[0m\u001B[0m\n\u001B[0;32m     40\u001B[0m     \u001B[1;32melse\u001B[0m\u001B[1;33m:\u001B[0m\u001B[1;33m\u001B[0m\u001B[1;33m\u001B[0m\u001B[0m\n",
      "\u001B[1;31mTypeError\u001B[0m: list indices must be integers or slices, not str"
     ]
    }
   ],
   "source": [
    "while 1:\n",
    "    while len(tree[now_node].child)==0:\n",
    "        now_node=tree[now_node].father\n",
    "        del tree[now_node].child[0]\n",
    "    if len(tree)==0:\n",
    "        print(\"error\")\n",
    "        break\n",
    "    maxnum=0\n",
    "    maxposition=0\n",
    "    for i in range(len(tree[now_node].child)):\n",
    "        #print(tree[tree[now_node].child[i]].action[\"score\"])\n",
    "        if tree[tree[now_node].child[i]].action[\"score\"]>maxnum:\n",
    "            maxnum=tree[tree[now_node].child[i]].action[\"score\"]\n",
    "            maxposition=i\n",
    "    #print(maxposition)\n",
    "    linshi=tree[now_node].child[0]\n",
    "    tree[now_node].child[0]=i\n",
    "    tree[now_node].child[i]=linshi\n",
    "    now_node=tree[now_node].child[0]\n",
    "    one_tool=get_tools(one=True,name=tree[now_node].action[\"action\"])\n",
    "    guide={\"action\":tree[now_node].action['action'],\"action_input\":tree[now_node].action['action_input']}\n",
    "    tool_prompt=get_tool_prompt(get_description(one_tool),get_name(one_tool),tree[tree[now_node].father].environment,question,guide)\n",
    "    print(tool_prompt)\n",
    "    tool_prompt = tool_prompt.replace('\\n', '\\\\n')\n",
    "    tool_prompt = tool_prompt.replace('\\\"', '\\'')\n",
    "    #print(tool_output)\n",
    "    while 1:\n",
    "        try:\n",
    "            #print(\"111\")\n",
    "            tool_output = get_ans(tool_prompt)\n",
    "            tool_output=tool_output.replace('\\n', '\\\\n')\n",
    "            tool_output=tool_output.replace('\\\"', '\\'')\n",
    "            tool_output=normail_tool_output(tool_output)\n",
    "            #print(tool_output)\n",
    "            break\n",
    "        except:\n",
    "            continue\n",
    "    if \"Final Answer\" in tool_output[\"action\"]:\n",
    "        print(tool_output[\"action_input\"])\n",
    "    else:\n",
    "        try:\n",
    "            ans=use_tools(message=tool_output,tools_list=get_available_tools())\n",
    "            tree[now_node].environment=tree[tree[now_node].father].environment+'\\n'+'Step'+str(tree[now_node].action['stepid'])+\" output:\"+ans\n",
    "            print(tool_output)\n",
    "            print(ans)\n",
    "        except:\n",
    "            now_node=tree[now_node].father\n",
    "            del tree[now_node].child[0]\n",
    "            continue\n",
    "    prompt=get_work_prompt(get_description(tools),input,get_name(tools),tree[now_node].environment,num)\n",
    "    prompt =prompt.replace('\\n', '\\\\n')\n",
    "    prompt =prompt.replace('\\\"', '\\'')\n",
    "    ans = get_ans(prompt)\n",
    "    ans=ans.replace('\\n', '\\\\n')\n",
    "    ans =ans.replace('\\\"', '\\'')\n",
    "    while 1:\n",
    "        try:\n",
    "            ans=normail_work_output(ans)\n",
    "            tree = build_tree(0, tree, ans)\n",
    "            continue\n",
    "        except:\n",
    "            break"
   ],
   "metadata": {
    "collapsed": false,
    "pycharm": {
     "name": "#%%\n"
    }
   }
  },
  {
   "cell_type": "code",
   "execution_count": null,
   "outputs": [],
   "source": [
    "print(tool_output)"
   ],
   "metadata": {
    "collapsed": false,
    "pycharm": {
     "name": "#%%\n"
    }
   }
  },
  {
   "cell_type": "code",
   "execution_count": null,
   "outputs": [],
   "source": [
    "print(maxposition)\n",
    "print(tool_prompt)\n",
    "print(tree[1].child)\n",
    "print(tree[1].action[\"score\"])"
   ],
   "metadata": {
    "collapsed": false,
    "pycharm": {
     "name": "#%%\n"
    }
   }
  }
 ],
 "metadata": {
  "kernelspec": {
   "display_name": "Python 3",
   "language": "python",
   "name": "python3"
  },
  "language_info": {
   "codemirror_mode": {
    "name": "ipython",
    "version": 2
   },
   "file_extension": ".py",
   "mimetype": "text/x-python",
   "name": "python",
   "nbconvert_exporter": "python",
   "pygments_lexer": "ipython2",
   "version": "2.7.6"
  }
 },
 "nbformat": 4,
 "nbformat_minor": 0
}